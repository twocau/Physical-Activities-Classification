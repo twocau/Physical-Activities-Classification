{
 "cells": [
  {
   "cell_type": "code",
   "execution_count": 9,
   "metadata": {
    "collapsed": true
   },
   "outputs": [],
   "source": [
    "import numpy as np\n",
    "import DataProcess as DP\n",
    "import FeatureCalculate as FC\n",
    "import DataProcessForPCA as DPpca\n",
    "import pandas as pd\n",
    "from sklearn.preprocessing import StandardScaler\n",
    "\n",
    "from sklearn.model_selection import cross_val_score, train_test_split, GridSearchCV\n",
    "from sklearn.decomposition import PCA\n",
    "from sklearn.svm import SVC\n",
    "from sklearn.linear_model import LogisticRegression\n",
    "from sklearn.pipeline import Pipeline"
   ]
  },
  {
   "cell_type": "markdown",
   "metadata": {},
   "source": [
    "### Prepare data:"
   ]
  },
  {
   "cell_type": "code",
   "execution_count": 2,
   "metadata": {
    "collapsed": true
   },
   "outputs": [],
   "source": [
    "# Use StandardScaler:\n",
    "specchunks=[]\n",
    "for i in DP.protocol_list:\n",
    "    X_std, specchunk = DPpca.preprocess(i, 1000, rescale=True, scaler='standard')\n",
    "    specchunks.append(np.array(specchunk))\n",
    "    \n",
    "chunks=[]\n",
    "for i in range(len(specchunks)):\n",
    "    chunks.append(DPpca.segmentation(specchunks[i],T=512,stride=512))\n"
   ]
  },
  {
   "cell_type": "code",
   "execution_count": 3,
   "metadata": {
    "collapsed": true
   },
   "outputs": [],
   "source": [
    "# Shuffle data:\n",
    "data = np.vstack(chunks)\n",
    "np.random.shuffle(data)\n",
    "\n",
    "X = data[:,:-1]\n",
    "y = data[:,-1]\n",
    "\n",
    "# Calculate class_weight of activities:\n",
    "actID, counts = np.unique(y, return_counts=True)\n",
    "weight = counts/np.sum(counts)\n",
    "act_weight = dict(zip(actID, weight))"
   ]
  },
  {
   "cell_type": "code",
   "execution_count": 4,
   "metadata": {
    "collapsed": true
   },
   "outputs": [],
   "source": [
    "X_train, X_test, y_train, y_test = train_test_split(X, y, test_size=0.2, random_state=42)"
   ]
  },
  {
   "cell_type": "markdown",
   "metadata": {},
   "source": [
    "### Set up pipeline and gridsearch:\n",
    "**Search for optimal n_components of PCA and parameters for svm classifier**"
   ]
  },
  {
   "cell_type": "code",
   "execution_count": 6,
   "metadata": {
    "collapsed": true
   },
   "outputs": [],
   "source": [
    "from tempfile import mkdtemp\n",
    "from shutil import rmtree"
   ]
  },
  {
   "cell_type": "code",
   "execution_count": 12,
   "metadata": {},
   "outputs": [],
   "source": [
    "# Enable caching\n",
    "cachedir = mkdtemp()\n",
    "\n",
    "estimators = [('reduce_dim', PCA()), ('clf', SVC())]\n",
    "param_grid = dict(reduce_dim__n_components=[20,30,50,70,100,130,160,200], \n",
    "                  clf__C=[0.01, 0.05, 0.1, 0.3], \n",
    "                  clf__kernel=[\"linear\", \"poly\"], \n",
    "                  clf__class_weight=['balanced', act_weight], \n",
    "                  clf__tol=[1, 5e-1, 3e-1, 1e-1])\n",
    "\n",
    "logreg_estimators = [('reduce_dim', PCA()), ('clf', LogisticRegression())]\n",
    "logreg_param_grid = dict(reduce_dim__n_components=[20,30,50,70,100,130,160,200],\n",
    "                         clf__C=[0.1, 0.3, 1, 3, 10], \n",
    "                         clf__penalty=[\"l1\", \"l2\"], \n",
    "                         clf__class_weight=[\"balanced\", act_weight])\n",
    "\n",
    "pipe = Pipeline(estimators, memory=cachedir)\n",
    "logreg_pipe = Pipeline(logreg_estimators, memory=cachedir)\n",
    "\n",
    "grid = GridSearchCV(pipe, cv=3, param_grid=param_grid)\n",
    "logreg_grid = GridSearchCV(logreg_pipe, cv=3, param_grid=logreg_param_grid)"
   ]
  },
  {
   "cell_type": "markdown",
   "metadata": {},
   "source": [
    "### Train and search for optimal parameters:"
   ]
  },
  {
   "cell_type": "markdown",
   "metadata": {},
   "source": [
    "**SVM:**"
   ]
  },
  {
   "cell_type": "code",
   "execution_count": 18,
   "metadata": {},
   "outputs": [
    {
     "data": {
      "text/plain": [
       "GridSearchCV(cv=3, error_score='raise',\n",
       "       estimator=Pipeline(memory='C:\\\\Users\\\\ELITE8~1\\\\AppData\\\\Local\\\\Temp\\\\tmp8wv_iddq',\n",
       "     steps=[('reduce_dim', PCA(copy=True, iterated_power='auto', n_components=None, random_state=None,\n",
       "  svd_solver='auto', tol=0.0, whiten=False)), ('clf', SVC(C=1.0, cache_size=200, class_weight=None, coef0=0.0,\n",
       "  decision_function_shape='ovr', degree=3, gamma='auto', kernel='rbf',\n",
       "  max_iter=-1, probability=False, random_state=None, shrinking=True,\n",
       "  tol=0.001, verbose=False))]),\n",
       "       fit_params=None, iid=True, n_jobs=1,\n",
       "       param_grid={'reduce_dim__n_components': [20, 30, 50, 70, 100, 130, 160, 200], 'clf__C': [0.01, 0.05, 0.1, 0.3], 'clf__kernel': ['linear', 'poly'], 'clf__class_weight': ['balanced', {1.0: 0.10270270270270271, 2.0: 0.097897897897897893, 3.0: 0.1012012012012012, 4.0: 0.12912912912912913, 5.0: 0.0498498...2192192199, 17.0: 0.12912912912912913, 24.0: 0.022222222222222223}], 'clf__tol': [1, 0.5, 0.3, 0.1]},\n",
       "       pre_dispatch='2*n_jobs', refit=True, return_train_score='warn',\n",
       "       scoring=None, verbose=0)"
      ]
     },
     "execution_count": 18,
     "metadata": {},
     "output_type": "execute_result"
    }
   ],
   "source": [
    "grid.fit(X_train,y_train)"
   ]
  },
  {
   "cell_type": "code",
   "execution_count": 19,
   "metadata": {},
   "outputs": [
    {
     "name": "stdout",
     "output_type": "stream",
     "text": [
      "Best: 0.983483 using {'clf__C': 0.01, 'clf__class_weight': 'balanced', 'clf__kernel': 'linear', 'clf__tol': 0.5, 'reduce_dim__n_components': 100}\n",
      "\n"
     ]
    }
   ],
   "source": [
    "print(\"Best: %f using %s\\n\" % (grid.best_score_, grid.best_params_))\n",
    "\n",
    "# means = grid.cv_results_['mean_test_score']\n",
    "# stds = grid.cv_results_['std_test_score']\n",
    "# params = grid.cv_results_['params']\n",
    "# for mean, stdev, param in zip(means, stds, params):\n",
    "#     print(\"%f (%f) with: %r\" % (mean, stdev, param))"
   ]
  },
  {
   "cell_type": "markdown",
   "metadata": {},
   "source": [
    "**Logistic Regression:**"
   ]
  },
  {
   "cell_type": "code",
   "execution_count": 13,
   "metadata": {},
   "outputs": [
    {
     "data": {
      "text/plain": [
       "GridSearchCV(cv=3, error_score='raise',\n",
       "       estimator=Pipeline(memory='C:\\\\Users\\\\ELITE8~1\\\\AppData\\\\Local\\\\Temp\\\\tmp8wv_iddq',\n",
       "     steps=[('reduce_dim', PCA(copy=True, iterated_power='auto', n_components=None, random_state=None,\n",
       "  svd_solver='auto', tol=0.0, whiten=False)), ('clf', LogisticRegression(C=1.0, class_weight=None, dual=False, fi...y='l2', random_state=None, solver='liblinear', tol=0.0001,\n",
       "          verbose=0, warm_start=False))]),\n",
       "       fit_params=None, iid=True, n_jobs=1,\n",
       "       param_grid={'reduce_dim__n_components': [20, 30, 50, 70, 100, 130, 160, 200], 'clf__C': [0.1, 0.3, 1, 3, 10], 'clf__penalty': ['l1', 'l2'], 'clf__class_weight': ['balanced', {1.0: 0.10270270270270271, 2.0: 0.097897897897897893, 3.0: 0.1012012012012012, 4.0: 0.12912912912912913, 5.0: 0.049849849849849852, 6.0: 0.087687687687687685, 7.0: 0.1012012012012012, 12.0: 0.047447447447447451, 13.0: 0.039339339339339342, 16.0: 0.092192192192192199, 17.0: 0.12912912912912913, 24.0: 0.022222222222222223}]},\n",
       "       pre_dispatch='2*n_jobs', refit=True, return_train_score='warn',\n",
       "       scoring=None, verbose=0)"
      ]
     },
     "execution_count": 13,
     "metadata": {},
     "output_type": "execute_result"
    }
   ],
   "source": [
    "logreg_grid.fit(X_train,y_train)"
   ]
  },
  {
   "cell_type": "code",
   "execution_count": 15,
   "metadata": {},
   "outputs": [
    {
     "name": "stdout",
     "output_type": "stream",
     "text": [
      "Best: 0.964715 using {'clf__C': 0.3, 'clf__class_weight': 'balanced', 'clf__penalty': 'l1', 'reduce_dim__n_components': 160}\n",
      "\n"
     ]
    }
   ],
   "source": [
    "print(\"Best: %f using %s\\n\" % (logreg_grid.best_score_, logreg_grid.best_params_))"
   ]
  },
  {
   "cell_type": "markdown",
   "metadata": {},
   "source": [
    "### Test with testing data:"
   ]
  },
  {
   "cell_type": "markdown",
   "metadata": {},
   "source": [
    "**SVM:**"
   ]
  },
  {
   "cell_type": "code",
   "execution_count": 20,
   "metadata": {},
   "outputs": [
    {
     "data": {
      "text/plain": [
       "0.98648648648648651"
      ]
     },
     "execution_count": 20,
     "metadata": {},
     "output_type": "execute_result"
    }
   ],
   "source": [
    "grid.score(X_test, y_test)"
   ]
  },
  {
   "cell_type": "markdown",
   "metadata": {},
   "source": [
    "**Logistic Regression:**"
   ]
  },
  {
   "cell_type": "code",
   "execution_count": 16,
   "metadata": {},
   "outputs": [
    {
     "data": {
      "text/plain": [
       "0.96846846846846846"
      ]
     },
     "execution_count": 16,
     "metadata": {},
     "output_type": "execute_result"
    }
   ],
   "source": [
    "logreg_grid.score(X_test, y_test)"
   ]
  },
  {
   "cell_type": "code",
   "execution_count": 21,
   "metadata": {
    "collapsed": true
   },
   "outputs": [],
   "source": [
    "# Clear the cache directory\n",
    "rmtree(cachedir)"
   ]
  },
  {
   "cell_type": "code",
   "execution_count": null,
   "metadata": {
    "collapsed": true
   },
   "outputs": [],
   "source": []
  }
 ],
 "metadata": {
  "kernelspec": {
   "display_name": "Python 3",
   "language": "python",
   "name": "python3"
  },
  "language_info": {
   "codemirror_mode": {
    "name": "ipython",
    "version": 3
   },
   "file_extension": ".py",
   "mimetype": "text/x-python",
   "name": "python",
   "nbconvert_exporter": "python",
   "pygments_lexer": "ipython3",
   "version": "3.6.6"
  }
 },
 "nbformat": 4,
 "nbformat_minor": 2
}
