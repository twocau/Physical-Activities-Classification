{
 "cells": [
  {
   "cell_type": "code",
   "execution_count": 1,
   "metadata": {
    "collapsed": true
   },
   "outputs": [],
   "source": [
    "#construct a decision tree classifier\n",
    "\n",
    "import numpy as np\n",
    "import matplotlib.pyplot as plt\n",
    "%matplotlib inline\n",
    "from sklearn.tree import DecisionTreeClassifier\n",
    "from sklearn.model_selection import cross_val_score\n",
    "import DataProcess as DP"
   ]
  },
  {
   "cell_type": "markdown",
   "metadata": {},
   "source": [
    "### Data Processing & Feature extraction"
   ]
  },
  {
   "cell_type": "code",
   "execution_count": 2,
   "metadata": {
    "collapsed": true
   },
   "outputs": [],
   "source": [
    "for subj_n in range(1,10):\n",
    "    #load the data\n",
    "    subj_filename='./PAMAP2_Dataset/Protocol/subject10'+str(subj_n)+'.dat'\n",
    "    HR_rest,HR_max=DP.HR_lim[subj_n]\n",
    "    dp=DP.dataprocess(subj_filename,HR_rest,HR_max)\n",
    "    np.save('data'+str(subj_n)+'.npy', (dp.feat_labels,dp.data_segmented))"
   ]
  },
  {
   "cell_type": "code",
   "execution_count": 2,
   "metadata": {
    "collapsed": true
   },
   "outputs": [],
   "source": [
    "datalabels=[]\n",
    "for i in range(1,10):\n",
    "    feature_names,datalabelsi=np.load('data'+str(i)+'.npy')\n",
    "    datalabels.append(datalabelsi)"
   ]
  },
  {
   "cell_type": "code",
   "execution_count": 3,
   "metadata": {},
   "outputs": [
    {
     "data": {
      "text/plain": [
       "[(1153, 125),\n",
       " (1209, 125),\n",
       " (807, 125),\n",
       " (1061, 125),\n",
       " (1262, 125),\n",
       " (1155, 125),\n",
       " (1051, 125),\n",
       " (1245, 125),\n",
       " (23, 125)]"
      ]
     },
     "execution_count": 3,
     "metadata": {},
     "output_type": "execute_result"
    }
   ],
   "source": [
    "[x.shape for x in datalabels]"
   ]
  },
  {
   "cell_type": "code",
   "execution_count": 4,
   "metadata": {
    "collapsed": true
   },
   "outputs": [],
   "source": [
    "# Stack data from different subjects into one chunk:\n",
    "datalabels=np.vstack(datalabels)"
   ]
  },
  {
   "cell_type": "markdown",
   "metadata": {},
   "source": [
    "# 1) Decision Tree Classification:"
   ]
  },
  {
   "cell_type": "code",
   "execution_count": 5,
   "metadata": {
    "collapsed": true
   },
   "outputs": [],
   "source": [
    "#shuffle data\n",
    "np.random.shuffle(datalabels)\n",
    "\n",
    "traindata=datalabels[:,:-1]\n",
    "trainlabels=datalabels[:,-1]"
   ]
  },
  {
   "cell_type": "code",
   "execution_count": 6,
   "metadata": {},
   "outputs": [
    {
     "data": {
      "text/plain": [
       "array([ 0.83093886,  0.81659973,  0.81373534])"
      ]
     },
     "execution_count": 6,
     "metadata": {},
     "output_type": "execute_result"
    }
   ],
   "source": [
    "cls=DecisionTreeClassifier(max_depth=8,min_impurity_decrease=0.015,max_leaf_nodes=14)\n",
    "cls.fit(traindata,trainlabels)\n",
    "cross_val_score(cls, traindata, trainlabels)"
   ]
  },
  {
   "cell_type": "markdown",
   "metadata": {},
   "source": [
    "#### Find out important nodes:"
   ]
  },
  {
   "cell_type": "code",
   "execution_count": 7,
   "metadata": {},
   "outputs": [
    {
     "data": {
      "text/plain": [
       "[['chest_acc16g_y_std', 0.18200077225066538],\n",
       " ['chest_acc16g_z_mean', 0.15845163992146358],\n",
       " ['chest_acc16g_y_peak', 0.14467783205349496],\n",
       " ['hand_acc16g_x_std', 0.11078914282575206],\n",
       " ['hand_acc16g_y_peak', 0.10516702476359059],\n",
       " ['hand_mag_x_median', 0.10184077345563092],\n",
       " ['hand_temp_mean', 0.082141704181639755],\n",
       " ['chest_gyro_y_std', 0.045476254611924699],\n",
       " ['heart_rate_peak', 0.040702668546070901],\n",
       " ['chest_mag_y_mean', 0.028752187389767026],\n",
       " ['heart_rate_mean', 0.0],\n",
       " ['hand_acc16g_x_mean', 0.0],\n",
       " ['hand_acc16g_y_mean', 0.0],\n",
       " ['hand_acc16g_z_mean', 0.0],\n",
       " ['hand_gyro_x_mean', 0.0]]"
      ]
     },
     "execution_count": 7,
     "metadata": {},
     "output_type": "execute_result"
    }
   ],
   "source": [
    "y=cls.feature_importances_\n",
    "a=[[feature_names[i],y[i]] for i in range(len(y))]\n",
    "a.sort(key=lambda x:-x[1])\n",
    "a[:15]"
   ]
  },
  {
   "cell_type": "code",
   "execution_count": 19,
   "metadata": {
    "collapsed": true
   },
   "outputs": [],
   "source": [
    "from sklearn import tree\n",
    "from sklearn.externals.six import StringIO\n",
    "import pydotplus   #using pydotplus in windows10, python 3.6.X\n",
    "import pydot"
   ]
  },
  {
   "cell_type": "code",
   "execution_count": 28,
   "metadata": {
    "collapsed": true
   },
   "outputs": [],
   "source": [
    "dot_data = StringIO()\n",
    "class_name=[DP.activity_dict[x] for x in np.unique(trainlabels)]\n",
    "\n",
    "tree.export_graphviz(cls, out_file=dot_data, \n",
    "                         feature_names=feature_names[:-1],  \n",
    "                         class_names=class_name, \n",
    "                         filled=True, rounded=True,  \n",
    "                         special_characters=True)  \n",
    "graph = pydotplus.graph_from_dot_data(dot_data.getvalue())\n",
    "# graph = pydot.graph_from_dot_data(dot_data.getvalue())\n",
    "# Image(graph.create_png())\n",
    "# file_path='tree.png'\n",
    "# pydot.graph_from_dot_data(dot_data.getvalue()).write_png(file_path)\n",
    "# i = misc.imread(file_path)\n",
    "# plt.imshow(i)"
   ]
  },
  {
   "cell_type": "markdown",
   "metadata": {},
   "source": [
    "#### LOSO cross validation:"
   ]
  },
  {
   "cell_type": "code",
   "execution_count": 106,
   "metadata": {
    "collapsed": true
   },
   "outputs": [],
   "source": [
    "from sklearn.metrics import confusion_matrix\n",
    "from sklearn.model_selection import train_test_split"
   ]
  },
  {
   "cell_type": "code",
   "execution_count": 22,
   "metadata": {},
   "outputs": [
    {
     "name": "stdout",
     "output_type": "stream",
     "text": [
      "a= 14 mean_score= 0.677375244675\n"
     ]
    }
   ],
   "source": [
    "#check LOSO cross validation!\n",
    "\n",
    "mean_scores=[]\n",
    "for a in [14]:\n",
    "    scores=[]\n",
    "    for iout in range(1,9):\n",
    "\n",
    "        datalabels=[]\n",
    "        for i in range(1,iout):\n",
    "            feature_names,datalabelsi=np.load('data'+str(i)+'.npy')\n",
    "            datalabels.append(datalabelsi)\n",
    "\n",
    "        for i in range(iout+1,9):\n",
    "            feature_names,datalabelsi=np.load('data'+str(i)+'.npy')\n",
    "            datalabels.append(datalabelsi)\n",
    "\n",
    "        datalabels=np.vstack(datalabels)\n",
    "\n",
    "        feature_names,validdatalabels=np.load('data'+str(iout)+'.npy')\n",
    "        validdata=validdatalabels[:,:-1]\n",
    "        validlabels=validdatalabels[:,-1]\n",
    "\n",
    "        #shuffle data\n",
    "        np.random.shuffle(datalabels)\n",
    "\n",
    "        traindata=datalabels[:,:-1]\n",
    "        trainlabels=datalabels[:,-1]\n",
    "\n",
    "        cls=DecisionTreeClassifier(max_depth=8,min_impurity_decrease=0.015,max_leaf_nodes=14)\n",
    "        cls.fit(traindata,trainlabels)\n",
    "\n",
    "        scores.append(cls.score(validdata,validlabels))\n",
    "    mean_scores.append(np.mean(scores))\n",
    "    print('a=',a,'mean_score=',np.mean(scores))"
   ]
  },
  {
   "cell_type": "code",
   "execution_count": 32,
   "metadata": {},
   "outputs": [
    {
     "name": "stdout",
     "output_type": "stream",
     "text": [
      "validation scores: [0.83174327840416307, 0.73035566583953682, 0.6406443618339529, 0.69651272384542884, 0.62599049128367668, 0.79567099567099564, 0.75832540437678397, 0.33975903614457831]\n"
     ]
    }
   ],
   "source": [
    "print('validation scores:', scores)"
   ]
  },
  {
   "cell_type": "code",
   "execution_count": 26,
   "metadata": {},
   "outputs": [
    {
     "data": {
      "text/plain": [
       "array([[  0, 117,   0,   0,   0,   0,   0,   0,   0,   0,   1,   0],\n",
       "       [  0, 104,   0,   0,   0,   0,   0,   0,   0,   7,   0,   0],\n",
       "       [ 51,   6,  52,   0,   0,   0,   0,   0,   0,  14,   0,   0],\n",
       "       [  0,   0,   0,  67,   0,   0,   0,   0,  90,   0,   0,   0],\n",
       "       [ 18,   0,   0,   1,   0,   0,   0,   0,  58,   0,   0,   0],\n",
       "       [  0,   0,   0,   2,   0, 102,   0,   0,   9,   0,  12,   0],\n",
       "       [  0,   0,   0,  35,   0,   0,   0,   0, 108,   0,   0,   0],\n",
       "       [  0,   0,   0,   9,   0,   0,   0,   0,  28,   2,   2,   0],\n",
       "       [  0,   0,   0,   9,   0,   0,   0,   0,  20,   1,   0,   0],\n",
       "       [  0,   0,   1,   2,   0,   0,   0,   0,   0,  78,  38,   0],\n",
       "       [  0,   5,  10,   0,   0,   0,   0,   0,   0, 150,   0,   0],\n",
       "       [  1,   0,   0,   0,   0,   0,   0,   0,  33,   0,   2,   0]], dtype=int64)"
      ]
     },
     "execution_count": 26,
     "metadata": {},
     "output_type": "execute_result"
    }
   ],
   "source": [
    "y_pred=cls.predict(validdata)\n",
    "\n",
    "confusion_matrix(validlabels, y_pred)"
   ]
  },
  {
   "cell_type": "markdown",
   "metadata": {},
   "source": [
    "### Changing parameters in DecisionTreeClassifier:"
   ]
  },
  {
   "cell_type": "code",
   "execution_count": 31,
   "metadata": {
    "collapsed": true
   },
   "outputs": [],
   "source": [
    "X=datalabels[:,:98]\n",
    "y=datalabels[:,-1]\n",
    "X_train, X_test, y_train, y_test = train_test_split(X, y, test_size=0.20, random_state=42)"
   ]
  },
  {
   "cell_type": "markdown",
   "metadata": {},
   "source": [
    "**Change depth of tree:**"
   ]
  },
  {
   "cell_type": "code",
   "execution_count": 66,
   "metadata": {},
   "outputs": [
    {
     "data": {
      "text/plain": [
       "[array([ 0.8166249 ,  0.77434183,  0.78490566]),\n",
       " array([ 0.91478697,  0.92352695,  0.90985325]),\n",
       " array([ 0.90685046,  0.92770581,  0.91027254])]"
      ]
     },
     "execution_count": 66,
     "metadata": {},
     "output_type": "execute_result"
    }
   ],
   "source": [
    "cv_scores = []\n",
    "for n in [5, 10, 15]:\n",
    "    cls=DecisionTreeClassifier(max_depth=n, random_state=42)\n",
    "    cv_scores.append(cross_val_score(cls, X_train, y_train))\n",
    "    \n",
    "cv_scores"
   ]
  },
  {
   "cell_type": "markdown",
   "metadata": {},
   "source": [
    "**Change minimum number of sample required for a leaf node: (default = 1)**"
   ]
  },
  {
   "cell_type": "code",
   "execution_count": 68,
   "metadata": {},
   "outputs": [
    {
     "data": {
      "text/plain": [
       "[array([ 0.91060986,  0.92310907,  0.9115304 ]),\n",
       " array([ 0.90726817,  0.91558713,  0.90733753]),\n",
       " array([ 0.90392648,  0.90472211,  0.90356394])]"
      ]
     },
     "execution_count": 68,
     "metadata": {},
     "output_type": "execute_result"
    }
   ],
   "source": [
    "cv_scores = []\n",
    "for n in [1, 4, 8]:\n",
    "    cls=DecisionTreeClassifier(max_depth=12, min_samples_leaf=n, random_state=42)\n",
    "    cv_scores.append(cross_val_score(cls, X_train, y_train))\n",
    "    \n",
    "cv_scores"
   ]
  },
  {
   "cell_type": "markdown",
   "metadata": {},
   "source": [
    "** Change maximum number of leaf nodes: (default = None)**"
   ]
  },
  {
   "cell_type": "code",
   "execution_count": 72,
   "metadata": {},
   "outputs": [
    {
     "data": {
      "text/plain": [
       "[array([ 0.78822055,  0.77893857,  0.77484277]),\n",
       " array([ 0.82915622,  0.83159214,  0.82641509]),\n",
       " array([ 0.86758563,  0.87547012,  0.85744235]),\n",
       " array([ 0.88220551,  0.89134977,  0.8754717 ]),\n",
       " array([ 0.91060986,  0.92310907,  0.9115304 ])]"
      ]
     },
     "execution_count": 72,
     "metadata": {},
     "output_type": "execute_result"
    }
   ],
   "source": [
    "cv_scores = []\n",
    "for n in [12, 20, 30, 40, None]:\n",
    "    cls=DecisionTreeClassifier(max_depth=12, min_samples_leaf=1, max_leaf_nodes=n, random_state=42)\n",
    "    cv_scores.append(cross_val_score(cls, X_train, y_train))\n",
    "    \n",
    "cv_scores"
   ]
  },
  {
   "cell_type": "markdown",
   "metadata": {},
   "source": [
    "**Testing with test samples:**"
   ]
  },
  {
   "cell_type": "code",
   "execution_count": 73,
   "metadata": {},
   "outputs": [
    {
     "data": {
      "text/plain": [
       "0.94202898550724634"
      ]
     },
     "execution_count": 73,
     "metadata": {},
     "output_type": "execute_result"
    }
   ],
   "source": [
    "cls=DecisionTreeClassifier(max_depth=12, min_samples_leaf=1, max_leaf_nodes=None, random_state=42)\n",
    "cls.fit(X_train,y_train)\n",
    "cls.score(X_test,y_test)"
   ]
  },
  {
   "cell_type": "markdown",
   "metadata": {},
   "source": [
    "# 2) Random Forest Classifier:"
   ]
  },
  {
   "cell_type": "code",
   "execution_count": 33,
   "metadata": {
    "collapsed": true
   },
   "outputs": [],
   "source": [
    "from sklearn.ensemble import RandomForestClassifier"
   ]
  },
  {
   "cell_type": "markdown",
   "metadata": {},
   "source": [
    "#### Changing number of trees: (default n_estimators=10)"
   ]
  },
  {
   "cell_type": "code",
   "execution_count": 65,
   "metadata": {},
   "outputs": [
    {
     "data": {
      "text/plain": [
       "[array([ 0.95238095,  0.93773506,  0.9408805 ]),\n",
       " array([ 0.96867168,  0.96113665,  0.96436059]),\n",
       " array([ 0.97410192,  0.97074802,  0.96603774]),\n",
       " array([ 0.97869674,  0.97158379,  0.97232704])]"
      ]
     },
     "execution_count": 65,
     "metadata": {},
     "output_type": "execute_result"
    }
   ],
   "source": [
    "cv_scores = []\n",
    "for n in [5, 10, 15, 20]:\n",
    "    cls=RandomForestClassifier(n_estimators=n, random_state=42)\n",
    "    cv_scores.append(cross_val_score(cls, X_train, y_train))\n",
    "    \n",
    "cv_scores"
   ]
  },
  {
   "cell_type": "markdown",
   "metadata": {},
   "source": [
    "**Change depth of trees: (default max_depth=None)**"
   ]
  },
  {
   "cell_type": "code",
   "execution_count": 50,
   "metadata": {},
   "outputs": [
    {
     "data": {
      "text/plain": [
       "[array([ 0.35839599,  0.35812787,  0.35639413]),\n",
       " array([ 0.44444444,  0.51358128,  0.4524109 ]),\n",
       " array([ 0.67710944,  0.71291266,  0.71530398]),\n",
       " array([ 0.80743525,  0.8069369 ,  0.7932914 ]),\n",
       " array([ 0.92940685,  0.94149603,  0.92285115]),\n",
       " array([ 0.96073517,  0.97033013,  0.95345912]),\n",
       " array([ 0.9657477 ,  0.97033013,  0.96771488]),\n",
       " array([ 0.96908939,  0.96573339,  0.96771488])]"
      ]
     },
     "execution_count": 50,
     "metadata": {},
     "output_type": "execute_result"
    }
   ],
   "source": [
    "cv_scores = []\n",
    "for n in [1, 2, 3, 4, 7, 10, 15, None]:\n",
    "    cls=RandomForestClassifier(n_estimators=12, max_depth=n, random_state=42)\n",
    "    cv_scores.append(cross_val_score(cls, X_train, y_train))\n",
    "    \n",
    "cv_scores"
   ]
  },
  {
   "cell_type": "markdown",
   "metadata": {},
   "source": [
    "**Testing with test samples:**"
   ]
  },
  {
   "cell_type": "code",
   "execution_count": 51,
   "metadata": {},
   "outputs": [
    {
     "data": {
      "text/plain": [
       "0.97547380156075814"
      ]
     },
     "execution_count": 51,
     "metadata": {},
     "output_type": "execute_result"
    }
   ],
   "source": [
    "cls=RandomForestClassifier(n_estimators=12, max_depth=12, random_state=42)\n",
    "cls.fit(X_train,y_train)\n",
    "cls.score(X_test,y_test)"
   ]
  },
  {
   "cell_type": "markdown",
   "metadata": {},
   "source": [
    "# 3) K-Nearest Neighbors Classifier:"
   ]
  },
  {
   "cell_type": "code",
   "execution_count": 53,
   "metadata": {
    "collapsed": true
   },
   "outputs": [],
   "source": [
    "from sklearn.neighbors import KNeighborsClassifier"
   ]
  },
  {
   "cell_type": "markdown",
   "metadata": {},
   "source": [
    "#### Change number of nearest neighbors: (default n_neighbors=5)"
   ]
  },
  {
   "cell_type": "code",
   "execution_count": 57,
   "metadata": {},
   "outputs": [
    {
     "data": {
      "text/plain": [
       "[array([ 0.93817878,  0.93815295,  0.92997904]),\n",
       " array([ 0.91102757,  0.91558713,  0.91446541]),\n",
       " array([ 0.91854637,  0.92478061,  0.91991614]),\n",
       " array([ 0.91102757,  0.9164229 ,  0.91236897]),\n",
       " array([ 0.90309106,  0.91307982,  0.90901468]),\n",
       " array([ 0.89807853,  0.90597576,  0.90398323])]"
      ]
     },
     "execution_count": 57,
     "metadata": {},
     "output_type": "execute_result"
    }
   ],
   "source": [
    "cv_scores = []\n",
    "for n in [1, 2, 3, 5, 7, 9]:\n",
    "    cls=KNeighborsClassifier(n_neighbors=n)\n",
    "    cv_scores.append(cross_val_score(cls, X_train, y_train))\n",
    "    \n",
    "cv_scores"
   ]
  },
  {
   "cell_type": "markdown",
   "metadata": {},
   "source": [
    "**Change the weight function used in prediction: (default='uniform')**"
   ]
  },
  {
   "cell_type": "code",
   "execution_count": 74,
   "metadata": {},
   "outputs": [
    {
     "data": {
      "text/plain": [
       "[array([ 0.91854637,  0.92478061,  0.91991614]),\n",
       " array([ 0.92815372,  0.93063101,  0.92494759])]"
      ]
     },
     "execution_count": 74,
     "metadata": {},
     "output_type": "execute_result"
    }
   ],
   "source": [
    "cv_scores = []\n",
    "for n in ['uniform', 'distance']:\n",
    "    cls=KNeighborsClassifier(n_neighbors=3, weights=n)\n",
    "    cv_scores.append(cross_val_score(cls, X_train, y_train))\n",
    "    \n",
    "cv_scores"
   ]
  },
  {
   "cell_type": "markdown",
   "metadata": {},
   "source": [
    "**Testing with test samples:**"
   ]
  },
  {
   "cell_type": "code",
   "execution_count": 75,
   "metadata": {},
   "outputs": [
    {
     "data": {
      "text/plain": [
       "0.94425863991081382"
      ]
     },
     "execution_count": 75,
     "metadata": {},
     "output_type": "execute_result"
    }
   ],
   "source": [
    "cls=KNeighborsClassifier(n_neighbors=3, weights='distance')\n",
    "cls.fit(X_train,y_train)\n",
    "cls.score(X_test,y_test)"
   ]
  },
  {
   "cell_type": "markdown",
   "metadata": {},
   "source": [
    "# 4) Support Vector Machine:"
   ]
  },
  {
   "cell_type": "code",
   "execution_count": 63,
   "metadata": {
    "collapsed": true
   },
   "outputs": [],
   "source": [
    "from sklearn.svm import SVC"
   ]
  },
  {
   "cell_type": "markdown",
   "metadata": {},
   "source": [
    "**Change kernel type: [‘linear’, ‘poly’, ‘rbf’, ‘sigmoid’, ‘precomputed’]**"
   ]
  },
  {
   "cell_type": "code",
   "execution_count": 79,
   "metadata": {},
   "outputs": [
    {
     "data": {
      "text/plain": [
       "[array([ 0.96825397,  0.96615127,  0.96477987]),\n",
       " array([ 0.9695071 ,  0.96865859,  0.9706499 ]),\n",
       " array([ 0.47660819,  0.4755537 ,  0.48050314]),\n",
       " array([ 0.13074353,  0.13079816,  0.13081761])]"
      ]
     },
     "execution_count": 79,
     "metadata": {},
     "output_type": "execute_result"
    }
   ],
   "source": [
    "cv_scores = []\n",
    "for n in ['linear','poly', 'rbf', 'sigmoid']:\n",
    "    cls=SVC(kernel=n)\n",
    "    cv_scores.append(cross_val_score(cls, X_train, y_train))\n",
    "    \n",
    "cv_scores"
   ]
  },
  {
   "cell_type": "markdown",
   "metadata": {},
   "source": [
    "**Change parameters correspond to different kernel: gamma and degree. Both parameters don't seem to affect too much.**"
   ]
  },
  {
   "cell_type": "code",
   "execution_count": 81,
   "metadata": {},
   "outputs": [
    {
     "data": {
      "text/plain": [
       "[array([ 0.96825397,  0.96615127,  0.96477987]),\n",
       " array([ 0.96825397,  0.96615127,  0.96477987]),\n",
       " array([ 0.96825397,  0.96615127,  0.96477987]),\n",
       " array([ 0.96825397,  0.96615127,  0.96477987])]"
      ]
     },
     "execution_count": 81,
     "metadata": {},
     "output_type": "execute_result"
    }
   ],
   "source": [
    "cv_scores = []\n",
    "for n in ['auto', 1/100, 1/50, 1/200]:\n",
    "    cls=SVC(kernel='linear', gamma=n)\n",
    "    cv_scores.append(cross_val_score(cls, X_train, y_train))\n",
    "    \n",
    "cv_scores"
   ]
  },
  {
   "cell_type": "code",
   "execution_count": 83,
   "metadata": {},
   "outputs": [
    {
     "data": {
      "text/plain": [
       "[array([ 0.96741855,  0.96740493,  0.96519916]),\n",
       " array([ 0.9732665 ,  0.96907647,  0.97148847]),\n",
       " array([ 0.9695071 ,  0.96865859,  0.9706499 ]),\n",
       " array([ 0.96282373,  0.96698705,  0.9672956 ]),\n",
       " array([ 0.96073517,  0.96406185,  0.96268344])]"
      ]
     },
     "execution_count": 83,
     "metadata": {},
     "output_type": "execute_result"
    }
   ],
   "source": [
    "cv_scores = []\n",
    "for n in [1, 2, 3, 4, 5]:\n",
    "    cls=SVC(kernel='poly', degree=n)\n",
    "    cv_scores.append(cross_val_score(cls, X_train, y_train))\n",
    "    \n",
    "cv_scores"
   ]
  },
  {
   "cell_type": "markdown",
   "metadata": {},
   "source": [
    "**Testing with test samples:**"
   ]
  },
  {
   "cell_type": "code",
   "execution_count": 84,
   "metadata": {},
   "outputs": [
    {
     "data": {
      "text/plain": [
       "0.97770345596432551"
      ]
     },
     "execution_count": 84,
     "metadata": {},
     "output_type": "execute_result"
    }
   ],
   "source": [
    "cls=SVC(kernel='poly', degree=2)\n",
    "cls.fit(X_train,y_train)\n",
    "cls.score(X_test,y_test)"
   ]
  },
  {
   "cell_type": "markdown",
   "metadata": {},
   "source": [
    "# 5) Gaussian Naive Bayes:"
   ]
  },
  {
   "cell_type": "code",
   "execution_count": 35,
   "metadata": {
    "collapsed": true
   },
   "outputs": [],
   "source": [
    "from sklearn.naive_bayes import GaussianNB"
   ]
  },
  {
   "cell_type": "code",
   "execution_count": 91,
   "metadata": {},
   "outputs": [
    {
     "data": {
      "text/plain": [
       "0.91806020066889638"
      ]
     },
     "execution_count": 91,
     "metadata": {},
     "output_type": "execute_result"
    }
   ],
   "source": [
    "cls=GaussianNB()\n",
    "cls.fit(X_train,y_train)\n",
    "cls.score(X_test,y_test)"
   ]
  },
  {
   "cell_type": "markdown",
   "metadata": {},
   "source": [
    "**It seems that GaussianNB is not doing super well. Is it because it assumes that the features are independent?**"
   ]
  },
  {
   "cell_type": "markdown",
   "metadata": {},
   "source": [
    "# 6) Gradient Boost classifier:"
   ]
  },
  {
   "cell_type": "code",
   "execution_count": 94,
   "metadata": {
    "collapsed": true
   },
   "outputs": [],
   "source": [
    "from sklearn.ensemble import GradientBoostingClassifier"
   ]
  },
  {
   "cell_type": "markdown",
   "metadata": {},
   "source": [
    "**Change learning_rate: default = 0.1**"
   ]
  },
  {
   "cell_type": "code",
   "execution_count": 97,
   "metadata": {},
   "outputs": [
    {
     "data": {
      "text/plain": [
       "[array([ 0.98245614,  0.97325533,  0.96855346]),\n",
       " array([ 0.98746867,  0.9799415 ,  0.97651992]),\n",
       " array([ 0.98120301,  0.97910573,  0.97400419])]"
      ]
     },
     "execution_count": 97,
     "metadata": {},
     "output_type": "execute_result"
    }
   ],
   "source": [
    "cv_scores = []\n",
    "for n in [0.05, 0.1, 0.5]:\n",
    "    cls=GradientBoostingClassifier(learning_rate=n)\n",
    "    cv_scores.append(cross_val_score(cls, X_train, y_train))\n",
    "    \n",
    "cv_scores"
   ]
  },
  {
   "cell_type": "markdown",
   "metadata": {},
   "source": [
    "**Change the number of boosting stages to perform: default n_estimators = 100**"
   ]
  },
  {
   "cell_type": "code",
   "execution_count": 98,
   "metadata": {},
   "outputs": [
    {
     "data": {
      "text/plain": [
       "[array([ 0.96324144,  0.95528625,  0.94465409]),\n",
       " array([ 0.98287385,  0.97450898,  0.96813417]),\n",
       " array([ 0.98913952,  0.98203092,  0.97861635])]"
      ]
     },
     "execution_count": 98,
     "metadata": {},
     "output_type": "execute_result"
    }
   ],
   "source": [
    "cv_scores = []\n",
    "for n in [20, 50, 120]:\n",
    "    cls=GradientBoostingClassifier(learning_rate=0.1, n_estimators=n)\n",
    "    cv_scores.append(cross_val_score(cls, X_train, y_train))\n",
    "    \n",
    "cv_scores"
   ]
  },
  {
   "cell_type": "markdown",
   "metadata": {},
   "source": [
    "**Change the maximum depth of the individual regression estimators. The maximum depth limits the number of nodes in the tree.**"
   ]
  },
  {
   "cell_type": "code",
   "execution_count": 103,
   "metadata": {},
   "outputs": [
    {
     "data": {
      "text/plain": [
       "[array([ 0.9770259 ,  0.96782282,  0.96352201]),\n",
       " array([ 0.98788638,  0.98035938,  0.97903564]),\n",
       " array([ 0.98746867,  0.97868784,  0.9769392 ])]"
      ]
     },
     "execution_count": 103,
     "metadata": {},
     "output_type": "execute_result"
    }
   ],
   "source": [
    "cv_scores = []\n",
    "for n in [1, 3, 5]:\n",
    "    cls=GradientBoostingClassifier(learning_rate=0.2, n_estimators=75, max_depth=n)\n",
    "    cv_scores.append(cross_val_score(cls, X_train, y_train))\n",
    "    \n",
    "cv_scores"
   ]
  },
  {
   "cell_type": "markdown",
   "metadata": {},
   "source": [
    "**Tesing with the test samples:**"
   ]
  },
  {
   "cell_type": "code",
   "execution_count": 102,
   "metadata": {},
   "outputs": [
    {
     "data": {
      "text/plain": [
       "0.99163879598662208"
      ]
     },
     "execution_count": 102,
     "metadata": {},
     "output_type": "execute_result"
    }
   ],
   "source": [
    "cls=GradientBoostingClassifier(learning_rate=0.2, n_estimators=75, max_depth=3)\n",
    "cls.fit(X_train,y_train)\n",
    "cls.score(X_test,y_test)"
   ]
  },
  {
   "cell_type": "markdown",
   "metadata": {},
   "source": [
    "# 7) Neural Network Multi-layer Perceptron classifier:"
   ]
  },
  {
   "cell_type": "code",
   "execution_count": 104,
   "metadata": {
    "collapsed": true
   },
   "outputs": [],
   "source": [
    "from sklearn.neural_network import MLPClassifier"
   ]
  },
  {
   "cell_type": "code",
   "execution_count": 105,
   "metadata": {},
   "outputs": [
    {
     "data": {
      "text/plain": [
       "0.98996655518394649"
      ]
     },
     "execution_count": 105,
     "metadata": {},
     "output_type": "execute_result"
    }
   ],
   "source": [
    "clf = MLPClassifier(activation='relu', solver='adam', alpha=1e-5, random_state=42)\n",
    "cls.fit(X_train,y_train)\n",
    "cls.score(X_test,y_test)"
   ]
  },
  {
   "cell_type": "code",
   "execution_count": 108,
   "metadata": {},
   "outputs": [
    {
     "data": {
      "text/plain": [
       "array([[200,   0,   0,   0,   0,   0,   0,   0,   0,   2,   0,   0],\n",
       "       [  0, 161,   1,   0,   0,   0,   0,   0,   0,   2,   0,   0],\n",
       "       [  0,   0, 190,   0,   0,   0,   0,   0,   0,   0,   0,   0],\n",
       "       [  0,   0,   0, 228,   0,   0,   0,   0,   1,   0,   0,   0],\n",
       "       [  0,   0,   0,   0,  95,   0,   0,   0,   1,   0,   0,   0],\n",
       "       [  0,   0,   0,   0,   0, 160,   0,   1,   0,   1,   0,   0],\n",
       "       [  0,   0,   0,   1,   0,   0, 176,   0,   0,   1,   0,   0],\n",
       "       [  0,   0,   0,   1,   0,   0,   0,  83,   0,   1,   0,   0],\n",
       "       [  0,   0,   0,   0,   0,   0,   0,   1,  70,   1,   0,   0],\n",
       "       [  0,   0,   1,   0,   0,   0,   0,   1,   0, 151,   0,   0],\n",
       "       [  0,   0,   0,   0,   0,   0,   0,   0,   0,   0, 217,   0],\n",
       "       [  0,   0,   0,   0,   0,   0,   0,   0,   0,   1,   0,  45]], dtype=int64)"
      ]
     },
     "execution_count": 108,
     "metadata": {},
     "output_type": "execute_result"
    }
   ],
   "source": [
    "y_pred=cls.predict(X_test)\n",
    "\n",
    "confusion_matrix(y_test, y_pred)"
   ]
  },
  {
   "cell_type": "code",
   "execution_count": 109,
   "metadata": {},
   "outputs": [
    {
     "data": {
      "text/plain": [
       "0.98885172798216281"
      ]
     },
     "execution_count": 109,
     "metadata": {},
     "output_type": "execute_result"
    }
   ],
   "source": [
    "clf = MLPClassifier(hidden_layer_sizes=(25, 2), activation='relu', solver='adam', alpha=1e-5, random_state=42)\n",
    "cls.fit(X_train,y_train)\n",
    "cls.score(X_test,y_test)"
   ]
  },
  {
   "cell_type": "code",
   "execution_count": 112,
   "metadata": {},
   "outputs": [
    {
     "data": {
      "text/plain": [
       "0.98773690078037901"
      ]
     },
     "execution_count": 112,
     "metadata": {},
     "output_type": "execute_result"
    }
   ],
   "source": [
    "clf = MLPClassifier(hidden_layer_sizes=(10, 20, 10, 2), activation='relu', solver='adam', alpha=1e-5, random_state=42)\n",
    "cls.fit(X_train,y_train)\n",
    "cls.score(X_test,y_test)"
   ]
  },
  {
   "cell_type": "code",
   "execution_count": null,
   "metadata": {
    "collapsed": true
   },
   "outputs": [],
   "source": []
  },
  {
   "cell_type": "code",
   "execution_count": null,
   "metadata": {
    "collapsed": true
   },
   "outputs": [],
   "source": []
  },
  {
   "cell_type": "code",
   "execution_count": null,
   "metadata": {
    "collapsed": true
   },
   "outputs": [],
   "source": []
  },
  {
   "cell_type": "code",
   "execution_count": null,
   "metadata": {
    "collapsed": true
   },
   "outputs": [],
   "source": []
  }
 ],
 "metadata": {
  "kernelspec": {
   "display_name": "Python 3",
   "language": "python",
   "name": "python3"
  },
  "language_info": {
   "codemirror_mode": {
    "name": "ipython",
    "version": 3
   },
   "file_extension": ".py",
   "mimetype": "text/x-python",
   "name": "python",
   "nbconvert_exporter": "python",
   "pygments_lexer": "ipython3",
   "version": "3.6.6"
  }
 },
 "nbformat": 4,
 "nbformat_minor": 2
}
